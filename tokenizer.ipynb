{
 "cells": [
  {
   "cell_type": "code",
   "execution_count": 1,
   "id": "bfa1d6b3",
   "metadata": {},
   "outputs": [],
   "source": [
    "%matplotlib inline"
   ]
  },
  {
   "cell_type": "code",
   "execution_count": 2,
   "id": "7498315e",
   "metadata": {},
   "outputs": [
    {
     "data": {
      "text/html": [
       "<span class=\"tex2jax_ignore\"><div class=\"entities\" style=\"line-height: 2.5; direction: ltr\">When \n",
       "<mark class=\"entity\" style=\"background: #c887fb; padding: 0.45em 0.6em; margin: 0 0.25em; line-height: 1; border-radius: 0.35em;\">\n",
       "    Sebastian\n",
       "    <span style=\"font-size: 0.8em; font-weight: bold; line-height: 1; border-radius: 0.35em; text-transform: uppercase; vertical-align: middle; margin-left: 0.5rem\">NORP</span>\n",
       "</mark>\n",
       " Thrun started working on self-driving cars at \n",
       "<mark class=\"entity\" style=\"background: #7aecec; padding: 0.45em 0.6em; margin: 0 0.25em; line-height: 1; border-radius: 0.35em;\">\n",
       "    Google\n",
       "    <span style=\"font-size: 0.8em; font-weight: bold; line-height: 1; border-radius: 0.35em; text-transform: uppercase; vertical-align: middle; margin-left: 0.5rem\">ORG</span>\n",
       "</mark>\n",
       " in \n",
       "<mark class=\"entity\" style=\"background: #bfe1d9; padding: 0.45em 0.6em; margin: 0 0.25em; line-height: 1; border-radius: 0.35em;\">\n",
       "    2007\n",
       "    <span style=\"font-size: 0.8em; font-weight: bold; line-height: 1; border-radius: 0.35em; text-transform: uppercase; vertical-align: middle; margin-left: 0.5rem\">DATE</span>\n",
       "</mark>\n",
       ", few people outside of the company took him seriously.</div></span>"
      ],
      "text/plain": [
       "<IPython.core.display.HTML object>"
      ]
     },
     "metadata": {},
     "output_type": "display_data"
    }
   ],
   "source": [
    "import spacy\n",
    "from spacy import displacy\n",
    "import nltk\n",
    "\n",
    "text = \"When Sebastian Thrun started working on self-driving cars at Google in 2007, few people outside of the company took him seriously.\"\n",
    "\n",
    "nlp = spacy.load(\"en_core_web_sm\")\n",
    "doc = nlp(text)\n",
    "# displacy.serve(doc, style=\"ent\")\n",
    "displacy.render(doc, style=\"ent\")"
   ]
  },
  {
   "cell_type": "code",
   "execution_count": 40,
   "id": "6fd0c54a",
   "metadata": {},
   "outputs": [],
   "source": [
    "#display tokens as boxes in jupyter notebook\n",
    "def jupyter_display_html(html):\n",
    "    from IPython.display import display, HTML\n",
    "    style = '''\n",
    "        <style>\n",
    "        .token {\n",
    "            display: inline-block;\n",
    "            padding: 5px;\n",
    "            margin: 5px;\n",
    "            border-radius: 5px;\n",
    "            background-color: #eee;\n",
    "        }\n",
    "        .token[data-pos=\"NN\"] {\n",
    "            background-color: #f00;\n",
    "        }\n",
    "        .token[data-pos=\"VB\"] {\n",
    "            background-color: #0e0;\n",
    "        }\n",
    "        .token[data-pos=\"JJ\"] {\n",
    "            background-color: #0096FF;\n",
    "        }\n",
    "        </style>\n",
    "        '''\n",
    "    display(HTML(style + html))\n",
    "    \n",
    "#wrap each word in box and return as html to display in jupyter notebook\n",
    "def pos_tagged_html(text):\n",
    "    tokens = nltk.word_tokenize(text)\n",
    "    pos_tags = nltk.pos_tag(tokens)\n",
    "    html = ''\n",
    "    for token, pos_tag in pos_tags:\n",
    "        html += f'<div class=\"token\" data-pos=\"{pos_tag}\">{token} [{pos_tag}]</div>'\n",
    "    return html"
   ]
  },
  {
   "cell_type": "code",
   "execution_count": 41,
   "id": "95c48895",
   "metadata": {},
   "outputs": [
    {
     "data": {
      "text/plain": [
       "'<div class=\"token\" data-pos=\"WRB\">When [WRB]</div><div class=\"token\" data-pos=\"JJ\">Sebastian [JJ]</div><div class=\"token\" data-pos=\"NNP\">Thrun [NNP]</div><div class=\"token\" data-pos=\"VBD\">started [VBD]</div><div class=\"token\" data-pos=\"VBG\">working [VBG]</div><div class=\"token\" data-pos=\"IN\">on [IN]</div><div class=\"token\" data-pos=\"JJ\">self-driving [JJ]</div><div class=\"token\" data-pos=\"NNS\">cars [NNS]</div><div class=\"token\" data-pos=\"IN\">at [IN]</div><div class=\"token\" data-pos=\"NNP\">Google [NNP]</div><div class=\"token\" data-pos=\"IN\">in [IN]</div><div class=\"token\" data-pos=\"CD\">2007 [CD]</div><div class=\"token\" data-pos=\",\">, [,]</div><div class=\"token\" data-pos=\"JJ\">few [JJ]</div><div class=\"token\" data-pos=\"NNS\">people [NNS]</div><div class=\"token\" data-pos=\"IN\">outside [IN]</div><div class=\"token\" data-pos=\"IN\">of [IN]</div><div class=\"token\" data-pos=\"DT\">the [DT]</div><div class=\"token\" data-pos=\"NN\">company [NN]</div><div class=\"token\" data-pos=\"VBD\">took [VBD]</div><div class=\"token\" data-pos=\"PRP\">him [PRP]</div><div class=\"token\" data-pos=\"RB\">seriously [RB]</div><div class=\"token\" data-pos=\".\">. [.]</div>'"
      ]
     },
     "execution_count": 41,
     "metadata": {},
     "output_type": "execute_result"
    }
   ],
   "source": [
    "pos_html = pos_tagged_html(text)\n",
    "pos_html"
   ]
  },
  {
   "cell_type": "code",
   "execution_count": 43,
   "id": "f2e84d9c",
   "metadata": {},
   "outputs": [
    {
     "data": {
      "text/html": [
       "\n",
       "        <style>\n",
       "        .token {\n",
       "            display: inline-block;\n",
       "            padding: 5px;\n",
       "            margin: 5px;\n",
       "            border-radius: 5px;\n",
       "            background-color: #eee;\n",
       "        }\n",
       "        .token[data-pos=\"NN\"] {\n",
       "            background-color: #f00;\n",
       "        }\n",
       "        .token[data-pos=\"VB\"] {\n",
       "            background-color: #0e0;\n",
       "        }\n",
       "        .token[data-pos=\"JJ\"] {\n",
       "            background-color: #0096FF;\n",
       "        }\n",
       "        </style>\n",
       "        <div class=\"token\" data-pos=\"WRB\">When [WRB]</div><div class=\"token\" data-pos=\"JJ\">Sebastian [JJ]</div><div class=\"token\" data-pos=\"NNP\">Thrun [NNP]</div><div class=\"token\" data-pos=\"VBD\">started [VBD]</div><div class=\"token\" data-pos=\"VBG\">working [VBG]</div><div class=\"token\" data-pos=\"IN\">on [IN]</div><div class=\"token\" data-pos=\"JJ\">self-driving [JJ]</div><div class=\"token\" data-pos=\"NNS\">cars [NNS]</div><div class=\"token\" data-pos=\"IN\">at [IN]</div><div class=\"token\" data-pos=\"NNP\">Google [NNP]</div><div class=\"token\" data-pos=\"IN\">in [IN]</div><div class=\"token\" data-pos=\"CD\">2007 [CD]</div><div class=\"token\" data-pos=\",\">, [,]</div><div class=\"token\" data-pos=\"JJ\">few [JJ]</div><div class=\"token\" data-pos=\"NNS\">people [NNS]</div><div class=\"token\" data-pos=\"IN\">outside [IN]</div><div class=\"token\" data-pos=\"IN\">of [IN]</div><div class=\"token\" data-pos=\"DT\">the [DT]</div><div class=\"token\" data-pos=\"NN\">company [NN]</div><div class=\"token\" data-pos=\"VBD\">took [VBD]</div><div class=\"token\" data-pos=\"PRP\">him [PRP]</div><div class=\"token\" data-pos=\"RB\">seriously [RB]</div><div class=\"token\" data-pos=\".\">. [.]</div>"
      ],
      "text/plain": [
       "<IPython.core.display.HTML object>"
      ]
     },
     "metadata": {},
     "output_type": "display_data"
    }
   ],
   "source": [
    "jupyter_display_html(pos_html)"
   ]
  },
  {
   "cell_type": "code",
   "execution_count": null,
   "id": "7a96d102",
   "metadata": {},
   "outputs": [],
   "source": []
  }
 ],
 "metadata": {
  "kernelspec": {
   "display_name": "Python 3 (ipykernel)",
   "language": "python",
   "name": "python3"
  },
  "language_info": {
   "codemirror_mode": {
    "name": "ipython",
    "version": 3
   },
   "file_extension": ".py",
   "mimetype": "text/x-python",
   "name": "python",
   "nbconvert_exporter": "python",
   "pygments_lexer": "ipython3",
   "version": "3.7.6"
  }
 },
 "nbformat": 4,
 "nbformat_minor": 5
}
