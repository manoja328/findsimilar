{
 "cells": [
  {
   "cell_type": "code",
   "execution_count": 1,
   "id": "bfa1d6b3",
   "metadata": {},
   "outputs": [],
   "source": [
    "%matplotlib inline"
   ]
  },
  {
   "cell_type": "code",
   "execution_count": 1,
   "id": "7498315e",
   "metadata": {},
   "outputs": [],
   "source": [
    "import spacy\n",
    "from spacy import displacy\n",
    "import nltk\n"
   ]
  },
  {
   "cell_type": "code",
   "execution_count": 84,
   "id": "7a96d102",
   "metadata": {},
   "outputs": [],
   "source": [
    "# using scikit get tfidf vectors for each document and compare them using cosine similarity.\n",
    "# Return the top 10 most similar documents.\n",
    "# The documents are in the directory /home/centos/data/ and are named 1.txt, 2.txt, etc.\n",
    "\n",
    "import os\n",
    "import csv\n",
    "import requests\n",
    "import numpy as np\n",
    "from sklearn.feature_extraction.text import TfidfVectorizer\n",
    "from sklearn.metrics.pairwise import cosine_similarity\n",
    "\n",
    "## calculate the cosine similarity between a vector and a numpy array of vectors\n",
    "cosine_similarity = lambda a, b: np.dot(a, b) / (np.linalg.norm(a) * np.linalg.norm(b))\n",
    "# get top-k sorted indices\n",
    "top_k = lambda a, k: np.argsort(a)[-k:]\n",
    "\n",
    "\n",
    "# function to get vectorizer and vector representation\n",
    "# specify max number of features to use\n",
    "def get_vectorizer(corpus,max_features=5000):\n",
    "    sklearn_tfidf = TfidfVectorizer(input='content', \n",
    "        encoding='utf-8', decode_error='replace', strip_accents='unicode', \n",
    "        lowercase=True, analyzer='word', stop_words='english', \n",
    "        token_pattern=r'(?u)\\b[a-zA-Z_][a-zA-Z0-9_]+\\b',\n",
    "        ngram_range=(1, 2), max_features = max_features, \n",
    "        norm='l2', use_idf=True, smooth_idf=True, sublinear_tf=True,\n",
    "        max_df=1.0, min_df=1)\n",
    "    \n",
    "    sklearn_representation = sklearn_tfidf.fit_transform(corpus)\n",
    "    return sklearn_tfidf, sklearn_representation\n",
    "\n",
    "\n",
    "# function to get the tfidf vector for the text\n",
    "def get_tfidf_vector(vectorizer, text):\n",
    "    sklearn_representation = vectorizer.transform([text])\n",
    "    return sklearn_representation.toarray()[0]\n"
   ]
  },
  {
   "cell_type": "code",
   "execution_count": 33,
   "id": "872f2ff9",
   "metadata": {},
   "outputs": [],
   "source": [
    "import dask.bag as db\n",
    "import pandas as pd\n",
    "import numpy as np\n",
    "import json"
   ]
  },
  {
   "cell_type": "code",
   "execution_count": 40,
   "id": "95953d0b",
   "metadata": {},
   "outputs": [],
   "source": [
    "docs = db.read_text('./arxiv-metadata-oai-snapshot.json').map(json.loads)"
   ]
  },
  {
   "cell_type": "code",
   "execution_count": 41,
   "id": "fe0b52ad",
   "metadata": {},
   "outputs": [
    {
     "data": {
      "text/plain": [
       "dask.bag<loads, npartitions=1>"
      ]
     },
     "execution_count": 41,
     "metadata": {},
     "output_type": "execute_result"
    }
   ],
   "source": [
    "docs"
   ]
  },
  {
   "cell_type": "code",
   "execution_count": 42,
   "id": "b1918368",
   "metadata": {},
   "outputs": [
    {
     "data": {
      "text/plain": [
       "2196513"
      ]
     },
     "execution_count": 42,
     "metadata": {},
     "output_type": "execute_result"
    }
   ],
   "source": [
    "docs.count().compute()"
   ]
  },
  {
   "cell_type": "code",
   "execution_count": 43,
   "id": "cbe25892",
   "metadata": {},
   "outputs": [
    {
     "data": {
      "text/plain": [
       "({'id': '0704.0001',\n",
       "  'submitter': 'Pavel Nadolsky',\n",
       "  'authors': \"C. Bal\\\\'azs, E. L. Berger, P. M. Nadolsky, C.-P. Yuan\",\n",
       "  'title': 'Calculation of prompt diphoton production cross sections at Tevatron and\\n  LHC energies',\n",
       "  'comments': '37 pages, 15 figures; published version',\n",
       "  'journal-ref': 'Phys.Rev.D76:013009,2007',\n",
       "  'doi': '10.1103/PhysRevD.76.013009',\n",
       "  'report-no': 'ANL-HEP-PR-07-12',\n",
       "  'categories': 'hep-ph',\n",
       "  'license': None,\n",
       "  'abstract': '  A fully differential calculation in perturbative quantum chromodynamics is\\npresented for the production of massive photon pairs at hadron colliders. All\\nnext-to-leading order perturbative contributions from quark-antiquark,\\ngluon-(anti)quark, and gluon-gluon subprocesses are included, as well as\\nall-orders resummation of initial-state gluon radiation valid at\\nnext-to-next-to-leading logarithmic accuracy. The region of phase space is\\nspecified in which the calculation is most reliable. Good agreement is\\ndemonstrated with data from the Fermilab Tevatron, and predictions are made for\\nmore detailed tests with CDF and DO data. Predictions are shown for\\ndistributions of diphoton pairs produced at the energy of the Large Hadron\\nCollider (LHC). Distributions of the diphoton pairs from the decay of a Higgs\\nboson are contrasted with those produced from QCD processes at the LHC, showing\\nthat enhanced sensitivity to the signal can be obtained with judicious\\nselection of events.\\n',\n",
       "  'versions': [{'version': 'v1', 'created': 'Mon, 2 Apr 2007 19:18:42 GMT'},\n",
       "   {'version': 'v2', 'created': 'Tue, 24 Jul 2007 20:10:27 GMT'}],\n",
       "  'update_date': '2008-11-26',\n",
       "  'authors_parsed': [['Balázs', 'C.', ''],\n",
       "   ['Berger', 'E. L.', ''],\n",
       "   ['Nadolsky', 'P. M.', ''],\n",
       "   ['Yuan', 'C. -P.', '']]},)"
      ]
     },
     "execution_count": 43,
     "metadata": {},
     "output_type": "execute_result"
    }
   ],
   "source": [
    "docs.take(1)"
   ]
  },
  {
   "cell_type": "code",
   "execution_count": 44,
   "id": "c2cd2082",
   "metadata": {},
   "outputs": [],
   "source": [
    "get_latest_version = lambda x: x['versions'][-1]['created']\n",
    "\n",
    "trim = lambda x: {'id': x['id'],\n",
    "                  'authors': x['authors'].split(','),\n",
    "                  'title': x['title'],\n",
    "                  'doi': x['doi'],\n",
    "                  'category':x['categories'].split(' '),\n",
    "                  'abstract':x['abstract'],}\n",
    "\n",
    "docs_df = (docs.filter(lambda x: int(get_latest_version(x).split(' ')[3]) > 2019)\n",
    "           .map(trim).\n",
    "           compute())\n",
    "\n",
    "docs_df = pd.DataFrame(docs_df)"
   ]
  },
  {
   "cell_type": "code",
   "execution_count": 45,
   "id": "ea09bff4",
   "metadata": {},
   "outputs": [],
   "source": [
    "docs_df.to_csv(\"arxiv_docs_after_2019.csv\", index=False)"
   ]
  },
  {
   "cell_type": "code",
   "execution_count": 46,
   "id": "95e4db7f",
   "metadata": {},
   "outputs": [
    {
     "data": {
      "text/html": [
       "<div>\n",
       "<style scoped>\n",
       "    .dataframe tbody tr th:only-of-type {\n",
       "        vertical-align: middle;\n",
       "    }\n",
       "\n",
       "    .dataframe tbody tr th {\n",
       "        vertical-align: top;\n",
       "    }\n",
       "\n",
       "    .dataframe thead th {\n",
       "        text-align: right;\n",
       "    }\n",
       "</style>\n",
       "<table border=\"1\" class=\"dataframe\">\n",
       "  <thead>\n",
       "    <tr style=\"text-align: right;\">\n",
       "      <th></th>\n",
       "      <th>id</th>\n",
       "      <th>authors</th>\n",
       "      <th>title</th>\n",
       "      <th>doi</th>\n",
       "      <th>category</th>\n",
       "      <th>abstract</th>\n",
       "    </tr>\n",
       "  </thead>\n",
       "  <tbody>\n",
       "    <tr>\n",
       "      <th>0</th>\n",
       "      <td>0704.0033</td>\n",
       "      <td>[Maxim A. Yurkin,  Valeri P. Maltsev,  Alfons ...</td>\n",
       "      <td>Convergence of the discrete dipole approximati...</td>\n",
       "      <td>10.1364/JOSAA.23.002578 10.1364/JOSAA.32.002407</td>\n",
       "      <td>[physics.optics, physics.comp-ph]</td>\n",
       "      <td>We performed a rigorous theoretical converge...</td>\n",
       "    </tr>\n",
       "    <tr>\n",
       "      <th>1</th>\n",
       "      <td>0704.0038</td>\n",
       "      <td>[Maxim A. Yurkin,  Alfons G. Hoekstra]</td>\n",
       "      <td>The discrete dipole approximation: an overview...</td>\n",
       "      <td>10.1016/j.jqsrt.2007.01.034 10.1016/j.jqsrt.20...</td>\n",
       "      <td>[physics.optics, physics.comp-ph]</td>\n",
       "      <td>We present a review of the discrete dipole a...</td>\n",
       "    </tr>\n",
       "    <tr>\n",
       "      <th>2</th>\n",
       "      <td>0704.0479</td>\n",
       "      <td>[T.Geisser]</td>\n",
       "      <td>The affine part of the Picard scheme</td>\n",
       "      <td>None</td>\n",
       "      <td>[math.AG, math.KT]</td>\n",
       "      <td>We describe the maximal torus and maximal un...</td>\n",
       "    </tr>\n",
       "    <tr>\n",
       "      <th>3</th>\n",
       "      <td>0704.1476</td>\n",
       "      <td>[Chris Austin]</td>\n",
       "      <td>TeV-scale gravity in Horava-Witten theory on a...</td>\n",
       "      <td>None</td>\n",
       "      <td>[hep-th]</td>\n",
       "      <td>The field equations and boundary conditions ...</td>\n",
       "    </tr>\n",
       "    <tr>\n",
       "      <th>4</th>\n",
       "      <td>0705.0825</td>\n",
       "      <td>[Ram Gopal Vishwakarma (Zacatecas University)]</td>\n",
       "      <td>Einstein's Theory of Gravity in the Presence o...</td>\n",
       "      <td>10.1007/s10509-009-0016-8</td>\n",
       "      <td>[gr-qc, astro-ph, hep-th]</td>\n",
       "      <td>The mysterious `dark energy' needed to expla...</td>\n",
       "    </tr>\n",
       "  </tbody>\n",
       "</table>\n",
       "</div>"
      ],
      "text/plain": [
       "          id                                            authors  \\\n",
       "0  0704.0033  [Maxim A. Yurkin,  Valeri P. Maltsev,  Alfons ...   \n",
       "1  0704.0038             [Maxim A. Yurkin,  Alfons G. Hoekstra]   \n",
       "2  0704.0479                                        [T.Geisser]   \n",
       "3  0704.1476                                     [Chris Austin]   \n",
       "4  0705.0825     [Ram Gopal Vishwakarma (Zacatecas University)]   \n",
       "\n",
       "                                               title  \\\n",
       "0  Convergence of the discrete dipole approximati...   \n",
       "1  The discrete dipole approximation: an overview...   \n",
       "2               The affine part of the Picard scheme   \n",
       "3  TeV-scale gravity in Horava-Witten theory on a...   \n",
       "4  Einstein's Theory of Gravity in the Presence o...   \n",
       "\n",
       "                                                 doi  \\\n",
       "0    10.1364/JOSAA.23.002578 10.1364/JOSAA.32.002407   \n",
       "1  10.1016/j.jqsrt.2007.01.034 10.1016/j.jqsrt.20...   \n",
       "2                                               None   \n",
       "3                                               None   \n",
       "4                          10.1007/s10509-009-0016-8   \n",
       "\n",
       "                            category  \\\n",
       "0  [physics.optics, physics.comp-ph]   \n",
       "1  [physics.optics, physics.comp-ph]   \n",
       "2                 [math.AG, math.KT]   \n",
       "3                           [hep-th]   \n",
       "4          [gr-qc, astro-ph, hep-th]   \n",
       "\n",
       "                                            abstract  \n",
       "0    We performed a rigorous theoretical converge...  \n",
       "1    We present a review of the discrete dipole a...  \n",
       "2    We describe the maximal torus and maximal un...  \n",
       "3    The field equations and boundary conditions ...  \n",
       "4    The mysterious `dark energy' needed to expla...  "
      ]
     },
     "execution_count": 46,
     "metadata": {},
     "output_type": "execute_result"
    }
   ],
   "source": [
    "docs_df.head()"
   ]
  },
  {
   "cell_type": "code",
   "execution_count": 47,
   "id": "01a6fb95",
   "metadata": {},
   "outputs": [
    {
     "data": {
      "text/plain": [
       "(610749, 6)"
      ]
     },
     "execution_count": 47,
     "metadata": {},
     "output_type": "execute_result"
    }
   ],
   "source": [
    "docs_df.shape"
   ]
  },
  {
   "cell_type": "code",
   "execution_count": 49,
   "id": "0bc70aca",
   "metadata": {},
   "outputs": [
    {
     "data": {
      "text/plain": [
       "'  We performed a rigorous theoretical convergence analysis of the discrete\\ndipole approximation (DDA). We prove that errors in any measured quantity are\\nbounded by a sum of a linear and quadratic term in the size of a dipole d, when\\nthe latter is in the range of DDA applicability. Moreover, the linear term is\\nsignificantly smaller for cubically than for non-cubically shaped scatterers.\\nTherefore, for small d errors for cubically shaped particles are much smaller\\nthan for non-cubically shaped. The relative importance of the linear term\\ndecreases with increasing size, hence convergence of DDA for large enough\\nscatterers is quadratic in the common range of d. Extensive numerical\\nsimulations were carried out for a wide range of d. Finally we discuss a number\\nof new developments in DDA and their consequences for convergence.\\n'"
      ]
     },
     "execution_count": 49,
     "metadata": {},
     "output_type": "execute_result"
    }
   ],
   "source": [
    "docs_df.loc[0].abstract"
   ]
  },
  {
   "cell_type": "code",
   "execution_count": 50,
   "id": "aba22d14",
   "metadata": {},
   "outputs": [],
   "source": [
    "abstracts = docs_df.abstract"
   ]
  },
  {
   "cell_type": "code",
   "execution_count": 85,
   "id": "42e41cb8",
   "metadata": {},
   "outputs": [],
   "source": [
    "# get the vectorizer and vector representation\n",
    "vectorizer, vector_np = get_vectorizer(abstracts)"
   ]
  },
  {
   "cell_type": "code",
   "execution_count": 86,
   "id": "b464e142",
   "metadata": {},
   "outputs": [],
   "source": [
    "feature_names = vectorizer.get_feature_names()"
   ]
  },
  {
   "cell_type": "code",
   "execution_count": 87,
   "id": "2f2bb38b",
   "metadata": {},
   "outputs": [
    {
     "data": {
      "text/plain": [
       "5000"
      ]
     },
     "execution_count": 87,
     "metadata": {},
     "output_type": "execute_result"
    }
   ],
   "source": [
    "len(feature_names)"
   ]
  },
  {
   "cell_type": "code",
   "execution_count": 88,
   "id": "3022ff19",
   "metadata": {},
   "outputs": [
    {
     "data": {
      "text/plain": [
       "(610749, 5000)"
      ]
     },
     "execution_count": 88,
     "metadata": {},
     "output_type": "execute_result"
    }
   ],
   "source": [
    "vector_np.shape"
   ]
  },
  {
   "cell_type": "code",
   "execution_count": 89,
   "id": "c03507ee",
   "metadata": {},
   "outputs": [],
   "source": [
    "import pickle"
   ]
  },
  {
   "cell_type": "code",
   "execution_count": 90,
   "id": "677e29e4",
   "metadata": {},
   "outputs": [],
   "source": [
    "with open(\"vectorizer.model\",\"wb\") as f:\n",
    "    pickle.dump(vectorizer,f)"
   ]
  },
  {
   "cell_type": "code",
   "execution_count": 91,
   "id": "1190c10d",
   "metadata": {},
   "outputs": [],
   "source": [
    "with open(\"vector_np.data\",\"wb\") as f:\n",
    "    pickle.dump(vector_np,f)"
   ]
  },
  {
   "cell_type": "code",
   "execution_count": 92,
   "id": "1705df8e",
   "metadata": {},
   "outputs": [],
   "source": [
    "v = get_tfidf_vector(vectorizer,docs_df.loc[0].abstract)"
   ]
  },
  {
   "cell_type": "code",
   "execution_count": 93,
   "id": "bd23a608",
   "metadata": {},
   "outputs": [
    {
     "data": {
      "text/plain": [
       "(5000,)"
      ]
     },
     "execution_count": 93,
     "metadata": {},
     "output_type": "execute_result"
    }
   ],
   "source": [
    "v.shape"
   ]
  },
  {
   "cell_type": "code",
   "execution_count": 96,
   "id": "1f46fd46",
   "metadata": {},
   "outputs": [],
   "source": [
    "top_k_tokens = top_k(v,70)"
   ]
  },
  {
   "cell_type": "code",
   "execution_count": 100,
   "id": "4d36196c",
   "metadata": {},
   "outputs": [
    {
     "name": "stdout",
     "output_type": "stream",
     "text": [
      "index,token,weight\n",
      "2989 new 0.07\n",
      "2453 large 0.07\n",
      "176 analysis 0.08\n",
      "3055 number 0.08\n",
      "3599 prove 0.09\n",
      "1738 finally 0.09\n",
      "3057 numerical 0.09\n",
      "4224 small 0.09\n",
      "4190 simulations 0.10\n",
      "4166 significantly 0.10\n",
      "4583 theoretical 0.10\n",
      "1288 discuss 0.10\n",
      "1656 extensive 0.11\n",
      "741 common 0.11\n",
      "4942 wide 0.11\n",
      "235 approximation 0.11\n",
      "2200 increasing 0.11\n",
      "3292 performed 0.11\n",
      "3821 relative 0.11\n",
      "1281 discrete 0.11\n",
      "2736 measured 0.12\n",
      "3245 particles 0.12\n",
      "2165 importance 0.12\n",
      "478 bounded 0.12\n",
      "3012 non 0.12\n",
      "4445 sum 0.13\n",
      "4943 wide range 0.13\n",
      "558 carried 0.14\n",
      "3061 numerical simulations 0.14\n",
      "217 applicability 0.14\n",
      "1109 decreases 0.14\n",
      "860 consequences 0.15\n",
      "3944 rigorous 0.15\n",
      "1221 developments 0.15\n",
      "3648 quantity 0.15\n",
      "4207 size 0.16\n",
      "1739 finally discuss 0.17\n",
      "2550 linear 0.18\n",
      "3693 range 0.19\n",
      "4227 smaller 0.21\n",
      "1527 errors 0.21\n",
      "3636 quadratic 0.22\n",
      "4557 term 0.23\n",
      "936 convergence 0.23\n",
      "1266 dipole 0.26\n",
      "4121 shaped 0.33\n"
     ]
    }
   ],
   "source": [
    "print(\"index,token,weight\")\n",
    "for index in top_k_tokens:\n",
    "    weight = v[index]\n",
    "    if weight > 0.001:\n",
    "        print(f\"{index} {feature_names[index]} {weight:.2f}\")"
   ]
  },
  {
   "cell_type": "code",
   "execution_count": null,
   "id": "27ce065a",
   "metadata": {},
   "outputs": [],
   "source": []
  }
 ],
 "metadata": {
  "kernelspec": {
   "display_name": "Python 3 (ipykernel)",
   "language": "python",
   "name": "python3"
  },
  "language_info": {
   "codemirror_mode": {
    "name": "ipython",
    "version": 3
   },
   "file_extension": ".py",
   "mimetype": "text/x-python",
   "name": "python",
   "nbconvert_exporter": "python",
   "pygments_lexer": "ipython3",
   "version": "3.7.6"
  }
 },
 "nbformat": 4,
 "nbformat_minor": 5
}
